{
 "cells": [
  {
   "cell_type": "markdown",
   "metadata": {},
   "source": [
    "# Big Data Platform Group Project\n",
    "## Amazon Product Reviews Analysis\n",
    "\n",
    "* Ann Eitrheim\n",
    "* Alisa Babikova\n",
    "* Yingkun Zhu\n",
    "\n",
    "### March 12, 2019\n",
    "\n",
    "\n",
    "\n",
    "> We want to thank Igor for the completion of this proect. "
   ]
  },
  {
   "cell_type": "code",
   "execution_count": 1,
   "metadata": {},
   "outputs": [],
   "source": [
    "from pyspark.sql import SparkSession\n",
    "from pyspark.sql import functions as F\n",
    "from datetime import datetime\n",
    "from pyspark.sql.functions import col, udf, split, explode\n",
    "from datetime import datetime\n",
    "import pandas as pd\n",
    "import numpy as np\n",
    "import matplotlib.pyplot as plt\n",
    "%matplotlib inline"
   ]
  },
  {
   "cell_type": "markdown",
   "metadata": {},
   "source": [
    "# Loading the data into Hadoop"
   ]
  },
  {
   "cell_type": "code",
   "execution_count": 2,
   "metadata": {},
   "outputs": [],
   "source": [
    "#Load data file into HDFS from local directory\n",
    "#!hdfs dfs -put /home/eitrheim/scratch-midway2/item_dedup.json /user/$USER/data/item_dedup.json"
   ]
  },
  {
   "cell_type": "code",
   "execution_count": 3,
   "metadata": {},
   "outputs": [],
   "source": [
    "#Load metadata file into HDFS from local directory\n",
    "#!hdfs dfs -put /home/eitrheim/scratch-midway2/metadata.json /user/$USER/data/metadata.json"
   ]
  },
  {
   "cell_type": "code",
   "execution_count": 4,
   "metadata": {},
   "outputs": [
    {
     "name": "stdout",
     "output_type": "stream",
     "text": [
      "WARNING: log4j.properties is not found. HADOOP_CONF_DIR may be incomplete.\n",
      "Java HotSpot(TM) 64-Bit Server VM warning: ignoring option MaxPermSize=512M; support was removed in 8.0\n",
      "Found 4 items\n",
      "-rw-------   3 eitrheim eitrheim  1603186411 2019-02-27 18:27 /user/eitrheim/data/Crimes_-_2001_to_present.csv\n",
      "-rw-------   3 eitrheim eitrheim        1247 2019-02-28 13:10 /user/eitrheim/data/chi_community_names.csv\n",
      "-rw-------   3 eitrheim eitrheim 58342134119 2019-02-22 19:26 /user/eitrheim/data/item_dedup.json\n",
      "-rw-------   3 eitrheim eitrheim 10544467811 2019-03-04 20:17 /user/eitrheim/data/metadata.json\n"
     ]
    }
   ],
   "source": [
    "#Checking if they are there\n",
    "!hdfs dfs -ls /user/$USER/data/"
   ]
  },
  {
   "cell_type": "code",
   "execution_count": 5,
   "metadata": {},
   "outputs": [],
   "source": [
    "#Making it so Will and Alisa can access my data\n",
    "#!hdfs dfs -chmod -R a+rX /user/$USER/data/"
   ]
  },
  {
   "cell_type": "code",
   "execution_count": 142,
   "metadata": {},
   "outputs": [
    {
     "name": "stdout",
     "output_type": "stream",
     "text": [
      "WARNING: log4j.properties is not found. HADOOP_CONF_DIR may be incomplete.\n",
      "Java HotSpot(TM) 64-Bit Server VM warning: ignoring option MaxPermSize=512M; support was removed in 8.0\n"
     ]
    }
   ],
   "source": [
    "#Removing access\n",
    "!hdfs dfs -chmod -R go-rwx /user/$USER/data/"
   ]
  },
  {
   "cell_type": "markdown",
   "metadata": {},
   "source": [
    "# Loading Spark and data into tables\n",
    "#### Data is from <http://jmcauley.ucsd.edu/data/amazon/links.html>"
   ]
  },
  {
   "cell_type": "code",
   "execution_count": 7,
   "metadata": {},
   "outputs": [],
   "source": [
    "spark = SparkSession.builder.appName('amazon').getOrCreate()\n",
    "sc = spark.sparkContext\n",
    "\n",
    "#change configuration settings on Spark \n",
    "conf = spark.sparkContext._conf.setAll([('spark.executor.memory', '256g'),\n",
    "                                        ('spark.app.name', 'Spark Updated Conf'),\n",
    "                                        ('spark.executor.cores', '16'),\n",
    "                                        ('spark.cores.max', '16'),\n",
    "                                        ('spark.driver.memory','256g'),\n",
    "                                        (\"spark.sql.autoBroadcastJoinThreshold\", -1),\n",
    "                                        (\"mapreduce.map.memory.mb\", -1),\n",
    "                                        (\"mapreduce.reduce.memory.mb\", -1),\n",
    "                                        (\"spark.yarn.executor.memoryOverhead\", -1),\n",
    "                                        (\"spark.sql.broadcastTimeout\", 1200)\n",
    "                                       ])"
   ]
  },
  {
   "cell_type": "code",
   "execution_count": 8,
   "metadata": {},
   "outputs": [
    {
     "data": {
      "text/plain": [
       "'10485760'"
      ]
     },
     "execution_count": 8,
     "metadata": {},
     "output_type": "execute_result"
    }
   ],
   "source": [
    "# we also tweak spark.sql.autoBroadcastJoinThreshold to -1\n",
    "\n",
    "from pyspark.sql.functions import broadcast\n",
    "spark.conf.get(\"spark.sql.autoBroadcastJoinThreshold\")"
   ]
  },
  {
   "cell_type": "code",
   "execution_count": 9,
   "metadata": {
    "scrolled": false
   },
   "outputs": [
    {
     "data": {
      "text/plain": [
       "[('spark.eventLog.enabled', 'true'),\n",
       " ('spark.executor.instances', '4'),\n",
       " ('spark.yarn.appMasterEnv.MKL_NUM_THREADS', '1'),\n",
       " ('spark.sql.queryExecutionListeners',\n",
       "  'com.cloudera.spark.lineage.NavigatorQueryListener'),\n",
       " ('spark.cores.max', '16'),\n",
       " ('spark.executor.memory', '256g'),\n",
       " ('spark.lineage.log.dir', '/var/log/spark/lineage'),\n",
       " ('spark.org.apache.hadoop.yarn.server.webproxy.amfilter.AmIpFilter.param.PROXY_HOSTS',\n",
       "  'md01.rcc.local,md02.rcc.local'),\n",
       " ('spark.serializer', 'org.apache.spark.serializer.KryoSerializer'),\n",
       " ('spark.executor.extraLibraryPath',\n",
       "  '/opt/cloudera/parcels/CDH-6.1.0-1.cdh6.1.0.p0.770702/lib/hadoop/lib/native'),\n",
       " ('spark.yarn.historyServer.address', 'http://hd01.rcc.local:18088'),\n",
       " ('spark.yarn.executor.memoryOverhead', '-1'),\n",
       " ('spark.ui.filters',\n",
       "  'org.apache.hadoop.yarn.server.webproxy.amfilter.AmIpFilter'),\n",
       " ('spark.yarn.jars',\n",
       "  'local:/opt/cloudera/parcels/CDH-6.1.0-1.cdh6.1.0.p0.770702/lib/spark/jars/*,local:/opt/cloudera/parcels/CDH-6.1.0-1.cdh6.1.0.p0.770702/lib/spark/hive/*'),\n",
       " ('spark.network.crypto.enabled', 'false'),\n",
       " ('spark.executorEnv.MKL_NUM_THREADS', '1'),\n",
       " ('spark.ui.enabled', 'true'),\n",
       " ('spark.executor.id', 'driver'),\n",
       " ('spark.dynamicAllocation.schedulerBacklogTimeout', '1'),\n",
       " ('spark.yarn.config.gatewayPath', '/opt/cloudera/parcels'),\n",
       " ('spark.extraListeners', 'com.cloudera.spark.lineage.NavigatorAppListener'),\n",
       " ('spark.driver.port', '37411'),\n",
       " ('spark.port.maxRetries', '60'),\n",
       " ('spark.sql.warehouse.dir', '/user/hive/warehouse'),\n",
       " ('spark.app.name', 'Spark Updated Conf'),\n",
       " ('spark.sql.catalogImplementation', 'hive'),\n",
       " ('spark.yarn.config.replacementPath', '{{HADOOP_COMMON_HOME}}/../../..'),\n",
       " ('spark.app.id', 'application_1547750003855_7026'),\n",
       " ('spark.executorEnv.OPENBLAS_NUM_THREADS', '1'),\n",
       " ('spark.driver.appUIAddress', 'http://md01.rcc.local:4040'),\n",
       " ('spark.ui.proxyBase', '/proxy/application_1547750003855_7026'),\n",
       " ('spark.ui.killEnabled', 'true'),\n",
       " ('spark.eventLog.dir', 'hdfs://nameservice1/user/spark/applicationHistory'),\n",
       " ('mapreduce.reduce.memory.mb', '-1'),\n",
       " ('spark.yarn.am.extraLibraryPath',\n",
       "  '/opt/cloudera/parcels/CDH-6.1.0-1.cdh6.1.0.p0.770702/lib/hadoop/lib/native'),\n",
       " ('spark.dynamicAllocation.executorIdleTimeout', '60'),\n",
       " ('spark.driver.extraLibraryPath',\n",
       "  '/opt/cloudera/parcels/CDH-6.1.0-1.cdh6.1.0.p0.770702/lib/hadoop/lib/native'),\n",
       " ('spark.io.encryption.enabled', 'false'),\n",
       " ('spark.authenticate', 'false'),\n",
       " ('spark.executorEnv.PYTHONPATH',\n",
       "  '/opt/cloudera/parcels/CDH/lib/spark/python/lib/py4j-0.10.7-src.zip:/opt/cloudera/parcels/CDH/lib/spark/python/lib/pyspark.zip<CPS>/opt/cloudera/parcels/CDH-6.1.0-1.cdh6.1.0.p0.770702/lib/spark/python/lib/py4j-0.10.7-src.zip<CPS>/opt/cloudera/parcels/CDH-6.1.0-1.cdh6.1.0.p0.770702/lib/spark/python/lib/pyspark.zip'),\n",
       " ('mapreduce.map.memory.mb', '-1'),\n",
       " ('spark.serializer.objectStreamReset', '100'),\n",
       " ('spark.executor.cores', '16'),\n",
       " ('spark.submit.deployMode', 'client'),\n",
       " ('spark.sql.autoBroadcastJoinThreshold', '-1'),\n",
       " ('spark.org.apache.hadoop.yarn.server.webproxy.amfilter.AmIpFilter.param.RM_HA_URLS',\n",
       "  'md01.rcc.local:8088,md02.rcc.local:8088'),\n",
       " ('spark.shuffle.service.enabled', 'true'),\n",
       " ('spark.driver.memory', '256g'),\n",
       " ('spark.yarn.historyServer.allowTracking', 'true'),\n",
       " ('spark.yarn.appMasterEnv.OPENBLAS_NUM_THREADS', '1'),\n",
       " ('spark.shuffle.service.port', '7337'),\n",
       " ('spark.org.apache.hadoop.yarn.server.webproxy.amfilter.AmIpFilter.param.PROXY_URI_BASES',\n",
       "  'http://md01.rcc.local:8088/proxy/application_1547750003855_7026,http://md02.rcc.local:8088/proxy/application_1547750003855_7026'),\n",
       " ('spark.sql.broadcastTimeout', '1200'),\n",
       " ('spark.lineage.enabled', 'true'),\n",
       " ('spark.master', 'yarn'),\n",
       " ('spark.driver.host', 'md01.rcc.local'),\n",
       " ('spark.rdd.compress', 'True'),\n",
       " ('spark.dynamicAllocation.minExecutors', '0'),\n",
       " ('spark.yarn.isPython', 'true'),\n",
       " ('spark.dynamicAllocation.enabled', 'true'),\n",
       " ('spark.ui.showConsoleProgress', 'true')]"
      ]
     },
     "execution_count": 9,
     "metadata": {},
     "output_type": "execute_result"
    }
   ],
   "source": [
    "#print spark configuration settings\n",
    "spark.sparkContext.getConf().getAll()"
   ]
  },
  {
   "cell_type": "code",
   "execution_count": 10,
   "metadata": {},
   "outputs": [],
   "source": [
    "amazon = spark.read.json(\"/user/eitrheim/data/item_dedup.json\")"
   ]
  },
  {
   "cell_type": "code",
   "execution_count": 11,
   "metadata": {},
   "outputs": [],
   "source": [
    "metadata = spark.read.json(\"/user/eitrheim/data/metadata.json\")"
   ]
  },
  {
   "cell_type": "markdown",
   "metadata": {},
   "source": [
    "# Exploring and Formatting the Amazon Reviews table\n",
    "### This dataset contains product reviews includidng ratings, text, and helpfulness from May 1996 - July 2014\n",
    "    # file size: 58.34 GB"
   ]
  },
  {
   "cell_type": "code",
   "execution_count": 12,
   "metadata": {},
   "outputs": [
    {
     "name": "stdout",
     "output_type": "stream",
     "text": [
      "+----------+-------+-------+--------------------+-----------+--------------+------------+------------------+--------------+\n",
      "|      asin|helpful|overall|          reviewText| reviewTime|    reviewerID|reviewerName|           summary|unixReviewTime|\n",
      "+----------+-------+-------+--------------------+-----------+--------------+------------+------------------+--------------+\n",
      "|0000000078| [1, 1]|    5.0|Conversations wit...|08 11, 2004|A3AF8FFZAZYNE5|        null|        Impactful!|    1092182400|\n",
      "|0000000116| [5, 5]|    4.0|Interesting Grish...|04 27, 2002| AH2L9G3DQHHAJ|       chris|Show me the money!|    1019865600|\n",
      "+----------+-------+-------+--------------------+-----------+--------------+------------+------------------+--------------+\n",
      "only showing top 2 rows\n",
      "\n"
     ]
    }
   ],
   "source": [
    "#Looking at the data before we start to clean it and do feature engineering\n",
    "amazon.show(2)"
   ]
  },
  {
   "cell_type": "code",
   "execution_count": 13,
   "metadata": {},
   "outputs": [
    {
     "name": "stdout",
     "output_type": "stream",
     "text": [
      "root\n",
      " |-- asin: string (nullable = true)\n",
      " |-- helpful: array (nullable = true)\n",
      " |    |-- element: long (containsNull = true)\n",
      " |-- overall: double (nullable = true)\n",
      " |-- reviewText: string (nullable = true)\n",
      " |-- reviewTime: string (nullable = true)\n",
      " |-- reviewerID: string (nullable = true)\n",
      " |-- reviewerName: string (nullable = true)\n",
      " |-- summary: string (nullable = true)\n",
      " |-- unixReviewTime: long (nullable = true)\n",
      "\n"
     ]
    }
   ],
   "source": [
    "#Looking at the schema\n",
    "amazon.printSchema()"
   ]
  },
  {
   "cell_type": "code",
   "execution_count": 14,
   "metadata": {},
   "outputs": [],
   "source": [
    "#Formatting the reviewTime column\n",
    "from pyspark.sql.types import DateType\n",
    "\n",
    "myfunc =  udf(lambda x: datetime.strptime(x, '%m %d, %Y'), DateType())\n",
    "amazon = amazon.withColumn('reviewTime', myfunc(col('reviewTime')))"
   ]
  },
  {
   "cell_type": "code",
   "execution_count": 15,
   "metadata": {},
   "outputs": [],
   "source": [
    "#Formatting the asin and overall column\n",
    "from pyspark.sql.types import IntegerType\n",
    "\n",
    "amazon = amazon.withColumn(\"asin\", amazon[\"asin\"].cast(IntegerType()))\n",
    "amazon = amazon.withColumn(\"overall\", amazon[\"overall\"].cast(IntegerType()))"
   ]
  },
  {
   "cell_type": "code",
   "execution_count": 16,
   "metadata": {},
   "outputs": [
    {
     "name": "stdout",
     "output_type": "stream",
     "text": [
      "+----------+-------------------+\n",
      "|reviewTime|     unixReviewTime|\n",
      "+----------+-------------------+\n",
      "|2014-03-24|2014-03-24 03:00:00|\n",
      "|2013-01-07|2013-01-07 02:00:00|\n",
      "|2014-04-27|2014-04-27 03:00:00|\n",
      "|2013-03-21|2013-03-21 03:00:00|\n",
      "+----------+-------------------+\n",
      "only showing top 4 rows\n",
      "\n"
     ]
    }
   ],
   "source": [
    "#Formatting the unixReviewTime column\n",
    "from pyspark.sql.types import TimestampType\n",
    "\n",
    "amazon = amazon.withColumn('unixReviewTime', F.from_unixtime(col('unixReviewTime')))\n",
    "amazon = amazon.withColumn('unixReviewTime', F.from_utc_timestamp(col('unixReviewTime'),\"Asia/Hong_Kong\"))\n",
    "#assuming the time is based in Hong Kong (dates come up a day behind the reviewTime otherwise)\n",
    "#the guy who we got access to the data source was at student/researcher/teacher(?) in Hong Kong at this time\n",
    "\n",
    "amazon = amazon.withColumn(\"unixReviewTime\", amazon[\"unixReviewTime\"].cast(TimestampType()))\n",
    "amazon.filter(amazon.overall == 1).select('reviewTime', 'unixReviewTime').show(4)"
   ]
  },
  {
   "cell_type": "code",
   "execution_count": 17,
   "metadata": {},
   "outputs": [
    {
     "data": {
      "text/plain": [
       "datetime.datetime(2014, 7, 23, 3, 0)"
      ]
     },
     "execution_count": 17,
     "metadata": {},
     "output_type": "execute_result"
    }
   ],
   "source": [
    "#Newest date in the dataset\n",
    "amazon.agg({\"unixReviewTime\": \"max\"}).collect()[0][0]"
   ]
  },
  {
   "cell_type": "code",
   "execution_count": 18,
   "metadata": {},
   "outputs": [
    {
     "data": {
      "text/plain": [
       "datetime.datetime(1996, 5, 20, 3, 0)"
      ]
     },
     "execution_count": 18,
     "metadata": {},
     "output_type": "execute_result"
    }
   ],
   "source": [
    "#Oldest date in the dataset\n",
    "amazon.agg({\"unixReviewTime\": \"min\"}).collect()[0][0]"
   ]
  },
  {
   "cell_type": "code",
   "execution_count": 19,
   "metadata": {},
   "outputs": [],
   "source": [
    "#Dropping the unixReviewTime column as it provides no additional information\n",
    "amazon = amazon.drop(\"unixReviewTime\")"
   ]
  },
  {
   "cell_type": "code",
   "execution_count": 20,
   "metadata": {},
   "outputs": [],
   "source": [
    "#Dropping the reviewerName column since we have reviewerID\n",
    "amazon = amazon.drop(\"reviewerName\")"
   ]
  },
  {
   "cell_type": "code",
   "execution_count": 21,
   "metadata": {},
   "outputs": [
    {
     "name": "stdout",
     "output_type": "stream",
     "text": [
      " The amazon dataframe has 82,677,139 records\n"
     ]
    }
   ],
   "source": [
    "print(\" The amazon dataframe has {:,} records\".format(amazon.count()))"
   ]
  },
  {
   "cell_type": "code",
   "execution_count": 22,
   "metadata": {},
   "outputs": [],
   "source": [
    "#Dropping rows without an asin\n",
    "amazon = amazon.filter(amazon.asin.isNotNull())"
   ]
  },
  {
   "cell_type": "code",
   "execution_count": 23,
   "metadata": {},
   "outputs": [
    {
     "name": "stdout",
     "output_type": "stream",
     "text": [
      " The amazon dataframe has 18,289,296 records\n"
     ]
    }
   ],
   "source": [
    "print(\" The amazon dataframe has {:,} records\".format(amazon.count()))"
   ]
  },
  {
   "cell_type": "code",
   "execution_count": 24,
   "metadata": {},
   "outputs": [],
   "source": [
    "#Adding an unique identifier to the columns\n",
    "amazon = amazon.withColumn('reviewID', F.monotonically_increasing_id())"
   ]
  },
  {
   "cell_type": "code",
   "execution_count": 25,
   "metadata": {},
   "outputs": [],
   "source": [
    "#Spliting the helpful column into two columns\n",
    "#Using posexplode to do that\n",
    "amazon = amazon.select(\"reviewID\",\"asin\",'overall','reviewText','reviewTime','reviewerID','summary','helpful',F.posexplode(\"helpful\"))\n",
    "amazon = amazon.withColumn('helpfulVote', F.when((col(\"pos\") == 0), col(\"col\")).otherwise(0))\n",
    "amazon = amazon.filter(amazon.pos != 0)\n",
    "amazon = amazon.withColumn(\"totalVotes\",amazon.col).drop(\"col\")\n",
    "amazon = amazon.select(\"reviewID\",\"asin\",'overall','reviewText','reviewTime','reviewerID','summary','helpful','totalVotes',F.posexplode(\"helpful\"))\n",
    "amazon = amazon.filter(amazon.pos != 1)\n",
    "amazon = amazon.drop(\"pos\")\n",
    "amazon = amazon.withColumn(\"helpfulVotes\",amazon.col).drop(\"col\")\n",
    "amazon = amazon.drop(\"helpful\")"
   ]
  },
  {
   "cell_type": "code",
   "execution_count": 26,
   "metadata": {},
   "outputs": [
    {
     "name": "stdout",
     "output_type": "stream",
     "text": [
      "+--------------+-----+\n",
      "|    reviewerID|count|\n",
      "+--------------+-----+\n",
      "|A14OJS0VWMOSWO|38555|\n",
      "|   AFVQZQ8PW0L|25712|\n",
      "|A2F6N60Z96CAJI| 5599|\n",
      "|A2OJW07GQRNJUT| 4114|\n",
      "|A1S3C5OFU508P3| 4019|\n",
      "|A1X8VZWTOG8IS6| 3883|\n",
      "+--------------+-----+\n",
      "only showing top 6 rows\n",
      "\n"
     ]
    }
   ],
   "source": [
    "#unique users and how many things they have recommended\n",
    "amazon.groupBy(\"reviewerID\").count().sort(\"count\", ascending=[0]).show(6)"
   ]
  },
  {
   "cell_type": "code",
   "execution_count": 27,
   "metadata": {},
   "outputs": [
    {
     "name": "stdout",
     "output_type": "stream",
     "text": [
      " The amazon dataframe has 7,261,083 unique reviewers\n"
     ]
    }
   ],
   "source": [
    "print(\" The amazon dataframe has {:,} unique reviewers\".format(amazon.groupBy(\"reviewerID\").count().sort(\"count\", ascending=[0]).count()))"
   ]
  },
  {
   "cell_type": "code",
   "execution_count": 28,
   "metadata": {},
   "outputs": [
    {
     "name": "stdout",
     "output_type": "stream",
     "text": [
      " The amazon dataframe has 1,725,046 unique products\n"
     ]
    }
   ],
   "source": [
    "print(\" The amazon dataframe has {:,} unique products\".format(amazon.select('asin').distinct().count()))"
   ]
  },
  {
   "cell_type": "code",
   "execution_count": 29,
   "metadata": {},
   "outputs": [
    {
     "name": "stdout",
     "output_type": "stream",
     "text": [
      "+-------+------------------+-----------------+-----------------+\n",
      "|summary|           overall|       totalVotes|     helpfulVotes|\n",
      "+-------+------------------+-----------------+-----------------+\n",
      "|  count|          18289296|         18289296|         18289296|\n",
      "|   mean|  4.30385767718998|4.224146079761627|3.008134430106003|\n",
      "| stddev|1.1112010401159533| 20.3455942935767| 17.2911368753149|\n",
      "|    min|                 1|                0|                0|\n",
      "|    max|                 5|            24212|            23311|\n",
      "+-------+------------------+-----------------+-----------------+\n",
      "\n"
     ]
    }
   ],
   "source": [
    "#Descriptive statistics on the ratings and helpfulness\n",
    "amazon.select('overall','totalVotes','helpfulVotes').describe().show()"
   ]
  },
  {
   "cell_type": "code",
   "execution_count": 30,
   "metadata": {},
   "outputs": [
    {
     "data": {
      "text/plain": [
       "Text(0.5,1,'Distribution of Ratings Given')"
      ]
     },
     "execution_count": 30,
     "metadata": {},
     "output_type": "execute_result"
    },
    {
     "data": {
      "image/png": "[encoded data removed]",
      "text/plain": [
       "<Figure size 432x288 with 1 Axes>"
      ]
     },
     "metadata": {},
     "output_type": "display_data"
    }
   ],
   "source": [
    "#Plotting the distribution of ratings given to a prodcut \n",
    "df1 = amazon.groupBy(\"overall\").count()\n",
    "pdf = df1.toPandas()\n",
    "pdf = pdf.sort_values(by='overall')\n",
    "index = (['1','2','3','4','5'])\n",
    "plt.bar(pdf.overall, pdf['count'],color='#1a9988')\n",
    "plt.title('Distribution of Ratings Given')"
   ]
  },
  {
   "cell_type": "code",
   "execution_count": 31,
   "metadata": {},
   "outputs": [
    {
     "data": {
      "text/plain": [
       "Text(0.5,1,'Distribution of Number of Helpful Votes Recieved')"
      ]
     },
     "execution_count": 31,
     "metadata": {},
     "output_type": "execute_result"
    },
    {
     "data": {
      "image/png": "[encoded data removed]",
      "text/plain": [
       "<Figure size 432x288 with 1 Axes>"
      ]
     },
     "metadata": {},
     "output_type": "display_data"
    }
   ],
   "source": [
    "#Plotting the distribution of how many helpful votes a review has gotten\n",
    "df1 = amazon.groupBy('helpfulVotes').count()\n",
    "pdf = df1.toPandas()\n",
    "pdf = pdf.sort_values(by='helpfulVotes')\n",
    "pdf.index = pdf.helpfulVotes\n",
    "pdf['count'].head(30).plot(color='#1a9988')\n",
    "plt.title('Distribution of Number of Helpful Votes Recieved')"
   ]
  },
  {
   "cell_type": "markdown",
   "metadata": {},
   "source": [
    "# Exploring and Formatting the Amazon Metadata table\n",
    "### Metadata includes descriptions, price, sales-rank, brand info, and co-purchasing links\n",
    "    # file size: 10.54 GB"
   ]
  },
  {
   "cell_type": "code",
   "execution_count": 32,
   "metadata": {},
   "outputs": [
    {
     "name": "stdout",
     "output_type": "stream",
     "text": [
      "root\n",
      " |-- _corrupt_record: string (nullable = true)\n",
      " |-- asin: string (nullable = true)\n",
      " |-- brand: string (nullable = true)\n",
      " |-- categories: array (nullable = true)\n",
      " |    |-- element: array (containsNull = true)\n",
      " |    |    |-- element: string (containsNull = true)\n",
      " |-- description: string (nullable = true)\n",
      " |-- imUrl: string (nullable = true)\n",
      " |-- price: double (nullable = true)\n",
      " |-- related: struct (nullable = true)\n",
      " |    |-- also_bought: array (nullable = true)\n",
      " |    |    |-- element: string (containsNull = true)\n",
      " |    |-- also_viewed: array (nullable = true)\n",
      " |    |    |-- element: string (containsNull = true)\n",
      " |    |-- bought_together: array (nullable = true)\n",
      " |    |    |-- element: string (containsNull = true)\n",
      " |    |-- buy_after_viewing: array (nullable = true)\n",
      " |    |    |-- element: string (containsNull = true)\n",
      " |-- salesRank: struct (nullable = true)\n",
      " |    |-- Appliances: long (nullable = true)\n",
      " |    |-- Arts, Crafts & Sewing: long (nullable = true)\n",
      " |    |-- Automotive: long (nullable = true)\n",
      " |    |-- Baby: long (nullable = true)\n",
      " |    |-- Beauty: long (nullable = true)\n",
      " |    |-- Books: long (nullable = true)\n",
      " |    |-- Camera &amp; Photo: long (nullable = true)\n",
      " |    |-- Cell Phones & Accessories: long (nullable = true)\n",
      " |    |-- Clothing: long (nullable = true)\n",
      " |    |-- Computers & Accessories: long (nullable = true)\n",
      " |    |-- Electronics: long (nullable = true)\n",
      " |    |-- Gift Cards Store: long (nullable = true)\n",
      " |    |-- Grocery & Gourmet Food: long (nullable = true)\n",
      " |    |-- Health & Personal Care: long (nullable = true)\n",
      " |    |-- Home &amp; Kitchen: long (nullable = true)\n",
      " |    |-- Home Improvement: long (nullable = true)\n",
      " |    |-- Industrial & Scientific: long (nullable = true)\n",
      " |    |-- Jewelry: long (nullable = true)\n",
      " |    |-- Kitchen & Dining: long (nullable = true)\n",
      " |    |-- Magazines: long (nullable = true)\n",
      " |    |-- Movies & TV: long (nullable = true)\n",
      " |    |-- Music: long (nullable = true)\n",
      " |    |-- Musical Instruments: long (nullable = true)\n",
      " |    |-- Office Products: long (nullable = true)\n",
      " |    |-- Patio, Lawn & Garden: long (nullable = true)\n",
      " |    |-- Pet Supplies: long (nullable = true)\n",
      " |    |-- Prime Pantry: long (nullable = true)\n",
      " |    |-- Shoes: long (nullable = true)\n",
      " |    |-- Software: long (nullable = true)\n",
      " |    |-- Sports &amp; Outdoors: long (nullable = true)\n",
      " |    |-- Toys & Games: long (nullable = true)\n",
      " |    |-- Video Games: long (nullable = true)\n",
      " |    |-- Watches: long (nullable = true)\n",
      " |-- title: string (nullable = true)\n",
      "\n"
     ]
    }
   ],
   "source": [
    "#Printing the schema of the metadata\n",
    "metadata.printSchema()"
   ]
  },
  {
   "cell_type": "code",
   "execution_count": 33,
   "metadata": {},
   "outputs": [
    {
     "name": "stdout",
     "output_type": "stream",
     "text": [
      "+---------------+----------+-----+--------------------+--------------------+--------------------+-----+--------------------+--------------------+--------------------+\n",
      "|_corrupt_record|      asin|brand|          categories|         description|               imUrl|price|             related|           salesRank|               title|\n",
      "+---------------+----------+-----+--------------------+--------------------+--------------------+-----+--------------------+--------------------+--------------------+\n",
      "|           null|0001048791| null|           [[Books]]|                null|http://ecx.images...| null|                null|[,,,,, 6334800,,,...|The Crucible: Per...|\n",
      "|           null|0000143561| null|[[Movies & TV, Mo...|3Pack DVD set - I...|http://g-ecx.imag...|12.99|[, [B0036FO6SI, B...|[,,,,,,,,,,,,,,,,...|Everyday Italian ...|\n",
      "+---------------+----------+-----+--------------------+--------------------+--------------------+-----+--------------------+--------------------+--------------------+\n",
      "only showing top 2 rows\n",
      "\n"
     ]
    }
   ],
   "source": [
    "#Looking at the first two rows\n",
    "metadata.show(2)"
   ]
  },
  {
   "cell_type": "code",
   "execution_count": 34,
   "metadata": {},
   "outputs": [
    {
     "name": "stdout",
     "output_type": "stream",
     "text": [
      " The metadata dataframe has 9,430,088 records\n"
     ]
    }
   ],
   "source": [
    "print(\" The metadata dataframe has {:,} records\".format(metadata.count()))"
   ]
  },
  {
   "cell_type": "code",
   "execution_count": 35,
   "metadata": {},
   "outputs": [],
   "source": [
    "#Dropping rows without an asin\n",
    "metadata = metadata.filter(metadata.asin.isNotNull())"
   ]
  },
  {
   "cell_type": "code",
   "execution_count": 36,
   "metadata": {},
   "outputs": [
    {
     "name": "stdout",
     "output_type": "stream",
     "text": [
      " The metadata dataframe has 8,403,388 records\n"
     ]
    }
   ],
   "source": [
    "print(\" The metadata dataframe has {:,} records\".format(metadata.count()))"
   ]
  },
  {
   "cell_type": "code",
   "execution_count": 37,
   "metadata": {},
   "outputs": [],
   "source": [
    "#Dropping image URL column as we will not be using it\n",
    "metadata = metadata.drop(\"imUrl\")"
   ]
  },
  {
   "cell_type": "code",
   "execution_count": 38,
   "metadata": {},
   "outputs": [],
   "source": [
    "#Dropping _corrupt_record column as it is now all nulls due to dropping Null asins\n",
    "metadata = metadata.drop(\"_corrupt_record\")"
   ]
  },
  {
   "cell_type": "code",
   "execution_count": 39,
   "metadata": {},
   "outputs": [],
   "source": [
    "#Dropping related column as we will not be using it\n",
    "metadata = metadata.drop(\"related\")"
   ]
  },
  {
   "cell_type": "code",
   "execution_count": 40,
   "metadata": {},
   "outputs": [
    {
     "name": "stdout",
     "output_type": "stream",
     "text": [
      "+----------+-----+--------------------+--------------------+-----+--------------------+--------------------+\n",
      "|      asin|brand|          categories|         description|price|           salesRank|               title|\n",
      "+----------+-----+--------------------+--------------------+-----+--------------------+--------------------+\n",
      "|0001048791| null|           [[Books]]|                null| null|[,,,,, 6334800,,,...|The Crucible: Per...|\n",
      "|0000143561| null|[[Movies & TV, Mo...|3Pack DVD set - I...|12.99|[,,,,,,,,,,,,,,,,...|Everyday Italian ...|\n",
      "+----------+-----+--------------------+--------------------+-----+--------------------+--------------------+\n",
      "only showing top 2 rows\n",
      "\n"
     ]
    }
   ],
   "source": [
    "metadata.show(2)"
   ]
  },
  {
   "cell_type": "code",
   "execution_count": 41,
   "metadata": {},
   "outputs": [
    {
     "name": "stdout",
     "output_type": "stream",
     "text": [
      "+----------+------+-----------------------------------------------------------------------------------------------+-----------------------------------------------------------------------------------------------------------------------------------------------------------------------------------------------------------------------------------+-----+--------------------------------------+-------------------------------------------+\n",
      "|asin      |brand |categories                                                                                     |description                                                                                                                                                                                                                        |price|salesRank                             |title                                      |\n",
      "+----------+------+-----------------------------------------------------------------------------------------------+-----------------------------------------------------------------------------------------------------------------------------------------------------------------------------------------------------------------------------------+-----+--------------------------------------+-------------------------------------------+\n",
      "|B000BO8MJQ|Lambro|[[Tools & Home Improvement, Rough Plumbing, Pipes, Pipe Fittings & Accessories, Pipe Fittings]]|4'' plastic quick fit friction type 90 elbow for use with clothes dryers. Fits on dryer without a clamp. Rubber gasket provides a tight seal and resists heat. Contains 1 plastic elbow and 1 screw type clamp for hose connection.|10.15|[1966,,,,,,,,,,,,,,,,,,,,,,,,,,,,,,,,]|Lambro Ind. 3003L Quick Fit Elbow for Dryer|\n",
      "+----------+------+-----------------------------------------------------------------------------------------------+-----------------------------------------------------------------------------------------------------------------------------------------------------------------------------------------------------------------------------------+-----+--------------------------------------+-------------------------------------------+\n",
      "only showing top 1 row\n",
      "\n"
     ]
    }
   ],
   "source": [
    "#Looking into the nested data\n",
    "metadata.filter(metadata.salesRank.Appliances.isNotNull()).show(1, truncate=False)"
   ]
  },
  {
   "cell_type": "code",
   "execution_count": 42,
   "metadata": {},
   "outputs": [
    {
     "data": {
      "image/png": "[encoded data removed]",
      "text/plain": [
       "<Figure size 720x360 with 1 Axes>"
      ]
     },
     "metadata": {},
     "output_type": "display_data"
    }
   ],
   "source": [
    "data = metadata.filter(metadata.price.isNotNull())\n",
    "data = data.select(\"price\")\n",
    "pdf = data.toPandas()\n",
    "\n",
    "import seaborn as sns\n",
    "sns.set()\n",
    "sns.set_style(\"whitegrid\")\n",
    "fig, ax = plt.subplots(figsize=(10,5))\n",
    "ax = sns.distplot(pdf, color='#1a9988', kde=True, bins=20).set_title(\"Distribution of Prices\")"
   ]
  },
  {
   "cell_type": "markdown",
   "metadata": {},
   "source": [
    "# Merging data sources"
   ]
  },
  {
   "cell_type": "code",
   "execution_count": 43,
   "metadata": {},
   "outputs": [],
   "source": [
    "#Picking columns we will use from the datasets\n",
    "df1 = metadata.select(\"asin\",\"title\",'price')\n",
    "df2 = amazon.select(\"asin\",'overall','reviewText','summary',\n",
    "                    'reviewerID','helpfulVotes','totalVotes') "
   ]
  },
  {
   "cell_type": "code",
   "execution_count": 44,
   "metadata": {},
   "outputs": [],
   "source": [
    "#Merging into a new table\n",
    "df = df2.join(df1, 'asin')"
   ]
  },
  {
   "cell_type": "code",
   "execution_count": 45,
   "metadata": {},
   "outputs": [],
   "source": [
    "#Dropping rows without a title\n",
    "df = df.filter(df.title.isNotNull())"
   ]
  },
  {
   "cell_type": "code",
   "execution_count": 46,
   "metadata": {},
   "outputs": [
    {
     "name": "stdout",
     "output_type": "stream",
     "text": [
      " The combined dataframe has 13,451,898 records\n"
     ]
    }
   ],
   "source": [
    "print(\" The combined dataframe has {:,} records\".format(df.count()))"
   ]
  },
  {
   "cell_type": "code",
   "execution_count": 47,
   "metadata": {},
   "outputs": [],
   "source": [
    "#Dropping rows without a title\n",
    "df = df.dropna()"
   ]
  },
  {
   "cell_type": "code",
   "execution_count": 48,
   "metadata": {},
   "outputs": [
    {
     "name": "stdout",
     "output_type": "stream",
     "text": [
      " The combined dataframe has 12,762,877 records\n"
     ]
    }
   ],
   "source": [
    "print(\" The combined dataframe has {:,} records\".format(df.count()))"
   ]
  },
  {
   "cell_type": "code",
   "execution_count": 49,
   "metadata": {},
   "outputs": [],
   "source": [
    "#Removing hierarchy and collecting an item's main category\n",
    "df1 = metadata.select(\"asin\",'categories')\n",
    "df1 = df1.select(\"asin\",(F.posexplode('categories')))\n",
    "df1 = df1.filter(df1.pos == 0)\n",
    "df1 = df1.drop('pos')\n",
    "df1 = df1.withColumn('categories',df1.col)\n",
    "df1 = df1.drop('col')\n",
    "df1 = df1.select(\"asin\",(F.posexplode('categories')))\n",
    "df1 = df1.filter(df1.pos == 0)\n",
    "df1 = df1.drop('pos')\n",
    "df1 = df1.withColumn('mainCategory',df1.col)\n",
    "df1 = df1.drop('col')\n",
    "\n",
    "#Merging mainCategory to our combined dataframe\n",
    "df = df.join(df1, 'asin')"
   ]
  },
  {
   "cell_type": "code",
   "execution_count": 50,
   "metadata": {},
   "outputs": [],
   "source": [
    "from pyspark.sql.functions import regexp_replace\n",
    "\n",
    "df = df.withColumn('mainCategory', regexp_replace('mainCategory', 'Amazon Fashion', 'Clothing, Shoes & Jewelry'))\n",
    "df = df.withColumn('mainCategory', regexp_replace('mainCategory', 'All Beauty', 'Beauty'))\n",
    "df = df.withColumn('mainCategory', regexp_replace('mainCategory', 'Computers', 'Electronics'))\n",
    "df = df.withColumn('mainCategory', regexp_replace('mainCategory', 'All Electronics', 'Electronics'))\n",
    "df = df.withColumn('mainCategory', regexp_replace('mainCategory', 'Office & School Supplies', 'Office Products'))\n",
    "df = df.withColumn('mainCategory', regexp_replace('mainCategory', 'Baby Products', 'Baby'))"
   ]
  },
  {
   "cell_type": "code",
   "execution_count": 51,
   "metadata": {},
   "outputs": [],
   "source": [
    "df = df.filter(df.mainCategory != '')"
   ]
  },
  {
   "cell_type": "code",
   "execution_count": 52,
   "metadata": {},
   "outputs": [],
   "source": [
    "#Removing items with no category\n",
    "df = df.filter(df.mainCategory.isNotNull())"
   ]
  },
  {
   "cell_type": "code",
   "execution_count": 53,
   "metadata": {},
   "outputs": [
    {
     "name": "stdout",
     "output_type": "stream",
     "text": [
      "+-------------------------+--------+\n",
      "|mainCategory             |count   |\n",
      "+-------------------------+--------+\n",
      "|Books                    |12431819|\n",
      "|Movies & TV              |292552  |\n",
      "|Toys & Games             |18180   |\n",
      "|CDs & Vinyl              |7206    |\n",
      "|Office Products          |2474    |\n",
      "|Arts, Crafts & Sewing    |1966    |\n",
      "|Electronics              |1471    |\n",
      "|Home & Kitchen           |1255    |\n",
      "|Tools & Home Improvement |796     |\n",
      "|Sports & Outdoors        |465     |\n",
      "|Health & Personal Care   |360     |\n",
      "|Clothing, Shoes & Jewelry|351     |\n",
      "|Cell Phones & Accessories|178     |\n",
      "|Baby                     |162     |\n",
      "|Pet Supplies             |158     |\n",
      "|Musical Instruments      |101     |\n",
      "|Industrial & Scientific  |72      |\n",
      "|Software                 |62      |\n",
      "|Beauty                   |35      |\n",
      "|Patio, Lawn & Garden     |23      |\n",
      "|Video Games              |7       |\n",
      "|Grocery & Gourmet Food   |6       |\n",
      "|Home Improvement         |5       |\n",
      "|Automotive               |3       |\n",
      "+-------------------------+--------+\n",
      "\n"
     ]
    }
   ],
   "source": [
    "df.groupBy(\"mainCategory\").count().orderBy([\"count\"], ascending=[0]).show(28, truncate = False)"
   ]
  },
  {
   "cell_type": "code",
   "execution_count": 54,
   "metadata": {},
   "outputs": [],
   "source": [
    "# #Removing hierarchy and collecting an item's subcategory\n",
    "# df1 = metadata.select(\"asin\",'categories')\n",
    "# df1 = df1.select(\"asin\",(F.posexplode('categories')))\n",
    "# df1 = df1.drop('pos')\n",
    "# df1 = df1.withColumn(\"categories\",df1.col).drop('col')\n",
    "# df1 = df1.select(\"asin\",F.posexplode('categories'))\n",
    "# df1 = df1.withColumn(\"categories\",df1.col).drop('col')\n",
    "# df1 = df1.dropDuplicates()\n",
    "# df1 = df1.withColumn('subCategory',df1.categories).drop('categories')\n",
    "# df2 = df1.groupBy(\"asin\").max()\n",
    "# df3 = df1.join(df2, 'asin')\n",
    "# df3 = df3.withColumn('maxPos',col('max(pos)')).drop('max(pos)','pos')\n",
    "# df3 = df3.dropDuplicates()\n",
    "# df3 = df3.drop('maxPos')\n",
    "\n",
    "# #Merging subCategory to our combined dataframe\n",
    "# df = df.join(df3, 'asin')"
   ]
  },
  {
   "cell_type": "code",
   "execution_count": 55,
   "metadata": {},
   "outputs": [],
   "source": [
    "itemAverageRating = df.select('asin','overall').groupBy(\"asin\").mean()\n",
    "itemAverageRating = itemAverageRating.withColumn(\"aveRating\",col(\"avg(overall)\")).drop('avg(overall)','avg(asin)')\n",
    "df = df.join(itemAverageRating, 'asin')"
   ]
  },
  {
   "cell_type": "code",
   "execution_count": 56,
   "metadata": {},
   "outputs": [
    {
     "name": "stdout",
     "output_type": "stream",
     "text": [
      " The combined dataframe has 12,759,707 records\n"
     ]
    }
   ],
   "source": [
    "print(\" The combined dataframe has {:,} records\".format(df.count()))"
   ]
  },
  {
   "cell_type": "code",
   "execution_count": 57,
   "metadata": {},
   "outputs": [
    {
     "name": "stdout",
     "output_type": "stream",
     "text": [
      "+-------+-------+--------------------+--------------------+--------------+------------+----------+---------------+-----+------------+---------+\n",
      "|   asin|overall|          reviewText|             summary|    reviewerID|helpfulVotes|totalVotes|          title|price|mainCategory|aveRating|\n",
      "+-------+-------+--------------------+--------------------+--------------+------------+----------+---------------+-----+------------+---------+\n",
      "|2218321|      5|Written in 1969, ...|An early Forbes c...|A3KXFQQFBPJTQE|           1|         3|Tramp in Armour| 54.9|       Books|      4.5|\n",
      "|2218321|      4|The events in the...|  Races along nicely|A3LFKLALXW7XTL|           1|         2|Tramp in Armour| 54.9|       Books|      4.5|\n",
      "+-------+-------+--------------------+--------------------+--------------+------------+----------+---------------+-----+------------+---------+\n",
      "only showing top 2 rows\n",
      "\n"
     ]
    }
   ],
   "source": [
    "#Seeing what our dataframe that we will use for ML looks like\n",
    "df.show(2)"
   ]
  },
  {
   "cell_type": "code",
   "execution_count": 58,
   "metadata": {
    "scrolled": false
   },
   "outputs": [
    {
     "name": "stdout",
     "output_type": "stream",
     "text": [
      "+---------+-----------------------------------------------+-----------------+-----+\n",
      "|asin     |title                                          |aveRating        |count|\n",
      "+---------+-----------------------------------------------+-----------------+-----+\n",
      "|439023483|The Hunger Games (The Hunger Games, Book 1)    |4.644406019254136|21398|\n",
      "|439023513|Mockingjay (The Final Book of The Hunger Games)|4.232676774833498|14114|\n",
      "|385537859|Inferno                                        |3.918985585446697|12973|\n",
      "|7444117  |Allegiant (Divergent, #3)                      |3.350542402407158|12629|\n",
      "|375831002|The Book Thief                                 |4.623737172858165|12571|\n",
      "+---------+-----------------------------------------------+-----------------+-----+\n",
      "only showing top 5 rows\n",
      "\n"
     ]
    }
   ],
   "source": [
    "#Most reviewed products\n",
    "df.groupBy(\"asin\",'title','aveRating').count().sort(\"count\", ascending=[0]).show(5, truncate = False)"
   ]
  },
  {
   "cell_type": "markdown",
   "metadata": {},
   "source": [
    "# Machine Learning Models\n",
    "\n",
    "### === Some more dataframe transformation to enable better ML===\n",
    "\n",
    "#### main dataframe for ML purpose\n",
    "\n",
    "* reviews = a subset of df, complete length\n",
    "    1. reviewText tokenized into feature \n",
    "    2. overall rating converted to binary (0 or 1) label\n",
    "    3. helpfulVotes into high, medium, low buckets\n",
    "    4. splited into train and test w. 80/20 ratio"
   ]
  },
  {
   "cell_type": "code",
   "execution_count": 59,
   "metadata": {},
   "outputs": [],
   "source": [
    "# sample a much smaller set for easier processing\n",
    "df_sample = df.sample(False, 0.1, 0) # replacement, fraction, seed"
   ]
  },
  {
   "cell_type": "code",
   "execution_count": 60,
   "metadata": {},
   "outputs": [
    {
     "data": {
      "text/plain": [
       "1275699"
      ]
     },
     "execution_count": 60,
     "metadata": {},
     "output_type": "execute_result"
    }
   ],
   "source": [
    "df_sample.count()"
   ]
  },
  {
   "cell_type": "code",
   "execution_count": 61,
   "metadata": {},
   "outputs": [],
   "source": [
    "#Manually remove these RDDs instead of waiting for it to fall out of the cache\n",
    "df.unpersist()\n",
    "amazon.unpersist()\n",
    "metadata.unpersist()\n",
    "df1.unpersist()\n",
    "df2.unpersist()\n",
    "\n",
    "from pyspark.sql import SparkSession\n",
    "spark.catalog.clearCache()\n",
    "\n",
    "from pyspark.sql import SQLContext\n",
    "sqlContext.clearCache()"
   ]
  },
  {
   "cell_type": "code",
   "execution_count": 62,
   "metadata": {},
   "outputs": [],
   "source": [
    "# create a subset only contains necessary info, from df\n",
    "reviews = df_sample[[\"reviewText\", \"overall\", \"helpfulVotes\"]]"
   ]
  },
  {
   "cell_type": "code",
   "execution_count": 63,
   "metadata": {
    "scrolled": true
   },
   "outputs": [
    {
     "data": {
      "text/plain": [
       "DataFrame[asin: int, overall: int, reviewText: string, summary: string, reviewerID: string, helpfulVotes: bigint, totalVotes: bigint, title: string, price: double, mainCategory: string, aveRating: double]"
      ]
     },
     "execution_count": 63,
     "metadata": {},
     "output_type": "execute_result"
    }
   ],
   "source": [
    "#Manually remove the RDD not being used\n",
    "df_sample.unpersist()"
   ]
  },
  {
   "cell_type": "code",
   "execution_count": 64,
   "metadata": {},
   "outputs": [
    {
     "data": {
      "text/plain": [
       "[Row(reviewText='This tiny set is perfect for little hands to hold to look at the colorful pictures. A good set to introduce Paddinton Bear to baby.', overall=5, helpfulVotes=2),\n",
       " Row(reviewText=\"I've run conferences and forums (at a high level-cabinet ministers and the like), and am always looking for ways to keep the agenda and presentations interesting and relevant.  &#34;Will there be Donuts?&#34; is more focused on every day meetings, but the main themes of what to do and what not to do, and how to control a meeting, are just as relevant to me.\", overall=4, helpfulVotes=0),\n",
       " Row(reviewText=\"Having sat through too many terrible meetings in my life, I was hoping that this book would offer me advice as a manager towards conducting meetings in a more effective and interesting manner.  Unfortunately, apart from some interesting anecdotes, I had trouble deriving a lot of value from the book itself.  Many of Pearl's examples are from non-profits and government agencies, and some of the attitudes and agendas he describes seem hard to relate to the more task-oriented and directed business meetings that many people will want to improve after reading his book.  Perhaps it is a difference in industry, but I found myself reading quickly to get to the meat of the book, and came away with what I might call some common sense descriptions of how to improve our interaction in general.  It might be an organizational issue with the book or a writing style one, but compared to other tomes in the library of business books I have read, I failed to derive much in the way of action to apply to my day to day life.\", overall=3, helpfulVotes=0)]"
      ]
     },
     "execution_count": 64,
     "metadata": {},
     "output_type": "execute_result"
    }
   ],
   "source": [
    "reviews.head(3)"
   ]
  },
  {
   "cell_type": "code",
   "execution_count": 65,
   "metadata": {},
   "outputs": [
    {
     "name": "stdout",
     "output_type": "stream",
     "text": [
      "+--------------------+-------+------------+\n",
      "|          reviewText|overall|helpfulVotes|\n",
      "+--------------------+-------+------------+\n",
      "|This tiny set is ...|      5|           2|\n",
      "|I've run conferen...|      4|           0|\n",
      "|Having sat throug...|      3|           0|\n",
      "|This book took a ...|      4|           0|\n",
      "|Meetings are the ...|      5|           0|\n",
      "+--------------------+-------+------------+\n",
      "only showing top 5 rows\n",
      "\n"
     ]
    }
   ],
   "source": [
    "reviews.show(5)"
   ]
  },
  {
   "cell_type": "code",
   "execution_count": 66,
   "metadata": {},
   "outputs": [],
   "source": [
    "# Step 1: convert overall score \n",
    "\n",
    "#Define positive rating as the score larger or equal to 4 ->1\n",
    "#Define negative rating as the score lower than 4 ->0\n",
    "\n",
    "def transform(star):\n",
    "    if star >=4:\n",
    "        return 1\n",
    "    else:\n",
    "        return 0\n",
    "transformer = udf(transform)"
   ]
  },
  {
   "cell_type": "code",
   "execution_count": 67,
   "metadata": {},
   "outputs": [],
   "source": [
    "sqlContext.registerDataFrameAsTable(reviews, \"table2\")\n",
    "reviews1 = sqlContext.sql(\"SELECT reviewText, overall from table2 LIMIT 50000\")"
   ]
  },
  {
   "cell_type": "code",
   "execution_count": 68,
   "metadata": {},
   "outputs": [],
   "source": [
    "#use transformer function to convert 0-5 scoring into 0/1\n",
    "temp1 = reviews1.withColumn(\"label\", transformer(reviews['overall']))\n",
    "\n",
    "temp1 = temp1.withColumn(\"label\", temp1[\"label\"].cast(IntegerType()))"
   ]
  },
  {
   "cell_type": "code",
   "execution_count": 69,
   "metadata": {},
   "outputs": [],
   "source": [
    "sqlContext.registerDataFrameAsTable(temp1, \"table1\")\n",
    "temp2 = sqlContext.sql(\"SELECT reviewText, label from table1 WHERE reviewText != ''\")"
   ]
  },
  {
   "cell_type": "code",
   "execution_count": 70,
   "metadata": {},
   "outputs": [],
   "source": [
    "reviews2 = temp2.join(reviews, 'reviewText')"
   ]
  },
  {
   "cell_type": "code",
   "execution_count": 71,
   "metadata": {},
   "outputs": [],
   "source": [
    "# Step 2: transform helpfulVotes\n",
    "# Feature Engineering\n",
    "from pyspark.ml.feature import QuantileDiscretizer\n",
    "\n",
    "# 3-Buckets: High Medium Low\n",
    "discretizer = QuantileDiscretizer(numBuckets=3, \n",
    "                                  inputCol=\"helpfulVotes\", \n",
    "                                  outputCol=\"hvcat\")"
   ]
  },
  {
   "cell_type": "code",
   "execution_count": 72,
   "metadata": {},
   "outputs": [],
   "source": [
    "reviews2 = discretizer.fit(reviews2).transform(reviews2)"
   ]
  },
  {
   "cell_type": "code",
   "execution_count": 73,
   "metadata": {},
   "outputs": [
    {
     "name": "stdout",
     "output_type": "stream",
     "text": [
      "+--------------+-----+-------+------------+-----+\n",
      "|    reviewText|label|overall|helpfulVotes|hvcat|\n",
      "+--------------+-----+-------+------------+-----+\n",
      "|     Very Good|    1|      5|           0|  1.0|\n",
      "|    Great read|    1|      5|           0|  1.0|\n",
      "|     very good|    1|      5|           0|  1.0|\n",
      "|Excellent book|    1|      5|           0|  1.0|\n",
      "|     good book|    1|      5|           0|  1.0|\n",
      "+--------------+-----+-------+------------+-----+\n",
      "only showing top 5 rows\n",
      "\n"
     ]
    }
   ],
   "source": [
    "reviews2.show(5)"
   ]
  },
  {
   "cell_type": "code",
   "execution_count": 74,
   "metadata": {},
   "outputs": [],
   "source": [
    "# Step 3: reviewText operation\n",
    "from pyspark.ml.feature import HashingTF, IDF, Tokenizer\n",
    "\n",
    "#Tokenize words\n",
    "tokenizer = Tokenizer(inputCol=\"reviewText\",outputCol=\"words\")\n",
    "reviews2 = tokenizer.transform(reviews2)"
   ]
  },
  {
   "cell_type": "code",
   "execution_count": 75,
   "metadata": {},
   "outputs": [],
   "source": [
    "#drop the redundant source column\n",
    "reviews2 = reviews2.drop(\"reviewText\")"
   ]
  },
  {
   "cell_type": "code",
   "execution_count": 76,
   "metadata": {},
   "outputs": [],
   "source": [
    "from pyspark.ml.feature import StopWordsRemover\n",
    "\n",
    "#remove stop words\n",
    "remover = StopWordsRemover(inputCol=\"words\", outputCol=\"filtered\")\n",
    "reviews2 = remover.transform(reviews2)"
   ]
  },
  {
   "cell_type": "code",
   "execution_count": 77,
   "metadata": {},
   "outputs": [
    {
     "name": "stdout",
     "output_type": "stream",
     "text": [
      "+-----+-------+------------+-----+-----------------+-----------------+\n",
      "|label|overall|helpfulVotes|hvcat|            words|         filtered|\n",
      "+-----+-------+------------+-----+-----------------+-----------------+\n",
      "|    1|      5|           0|  1.0|           [good]|           [good]|\n",
      "|    1|      5|           0|  1.0|           [good]|           [good]|\n",
      "|    1|      5|           0|  1.0|           [good]|           [good]|\n",
      "|    1|      5|           0|  1.0|[excellent, book]|[excellent, book]|\n",
      "|    1|      5|           0|  1.0|     [good, read]|     [good, read]|\n",
      "+-----+-------+------------+-----+-----------------+-----------------+\n",
      "only showing top 5 rows\n",
      "\n"
     ]
    }
   ],
   "source": [
    "reviews2.show(5)"
   ]
  },
  {
   "cell_type": "code",
   "execution_count": 78,
   "metadata": {},
   "outputs": [],
   "source": [
    "#drop the redundant source column\n",
    "reviews = reviews.drop(\"words\")"
   ]
  },
  {
   "cell_type": "code",
   "execution_count": 79,
   "metadata": {},
   "outputs": [],
   "source": [
    "#Maps a sequence of terms to their term frequencies using the hashing trick. \n",
    "#alternatively, CountVectorizer can also be used to get term frequency vectors\n",
    "hashingTF = HashingTF(inputCol=\"filtered\", \n",
    "                      outputCol=\"rawFeatures\", \n",
    "                      numFeatures=20)\n",
    "featurizedData = hashingTF.transform(reviews2)"
   ]
  },
  {
   "cell_type": "code",
   "execution_count": 81,
   "metadata": {},
   "outputs": [],
   "source": [
    "#Inverse document frequency\n",
    "idf = IDF(inputCol=\"rawFeatures\", outputCol=\"features\")\n",
    "idfModel = idf.fit(featurizedData)\n",
    "nlpdf = idfModel.transform(featurizedData)"
   ]
  },
  {
   "cell_type": "code",
   "execution_count": 82,
   "metadata": {},
   "outputs": [],
   "source": [
    "#Spilting into train and test sets\n",
    "splits = nlpdf.randomSplit([0.8, 0.2], seed=0)\n",
    "train_df = splits[0]\n",
    "test_df = splits[1]"
   ]
  },
  {
   "cell_type": "code",
   "execution_count": 83,
   "metadata": {},
   "outputs": [],
   "source": [
    "train_df = train_df.repartition(8)"
   ]
  },
  {
   "cell_type": "code",
   "execution_count": 84,
   "metadata": {},
   "outputs": [
    {
     "name": "stdout",
     "output_type": "stream",
     "text": [
      "+-----+-------+------------+-----+--------------------+--------------------+--------------------+--------------------+\n",
      "|label|overall|helpfulVotes|hvcat|               words|            filtered|         rawFeatures|            features|\n",
      "+-----+-------+------------+-----+--------------------+--------------------+--------------------+--------------------+\n",
      "|    0|      3|           0|  1.0|                [ok]|                [ok]|      (20,[4],[1.0])|(20,[4],[0.285274...|\n",
      "|    1|      5|           0|  1.0|   [excellent, read]|   [excellent, read]|(20,[1,10],[1.0,1...|(20,[1,10],[0.371...|\n",
      "|    1|      5|           0|  1.0|      [great, book!]|      [great, book!]|(20,[0,16],[1.0,1...|(20,[0,16],[0.217...|\n",
      "|    1|      4|           0|  1.0|[a, good, book, l...|[good, book, like...|(20,[0,1,2,4,5,7,...|(20,[0,1,2,4,5,7,...|\n",
      "|    1|      5|           0|  1.0|[it's, been, a, l...|[long, time, sinc...|(20,[0,2,4,5,7,11...|(20,[0,2,4,5,7,11...|\n",
      "+-----+-------+------------+-----+--------------------+--------------------+--------------------+--------------------+\n",
      "only showing top 5 rows\n",
      "\n"
     ]
    }
   ],
   "source": [
    "train_df.show(5)"
   ]
  },
  {
   "cell_type": "markdown",
   "metadata": {},
   "source": [
    "# 1. Using features to predict on helpfulVotes. \n",
    "\n",
    "## 1.1 Logistic Regression"
   ]
  },
  {
   "cell_type": "code",
   "execution_count": 86,
   "metadata": {},
   "outputs": [],
   "source": [
    "from pyspark.ml.classification import LogisticRegression\n",
    "\n",
    "# Set parameters for Logistic Regression\n",
    "lgr1 = LogisticRegression(maxIter=10, featuresCol = 'features', labelCol='hvcat')\n",
    "\n",
    "# Fit the model to the data.\n",
    "lgr1m = lgr1.fit(train_df)\n",
    "\n",
    "# Given a dataset, predict each point's label, and show the results.\n",
    "predictions1 = lgr1m.transform(test_df)"
   ]
  },
  {
   "cell_type": "code",
   "execution_count": 87,
   "metadata": {},
   "outputs": [],
   "source": [
    "from pyspark.ml.evaluation import MulticlassClassificationEvaluator\n",
    "\n",
    "#print evaluation metrics\n",
    "evaluator = MulticlassClassificationEvaluator(labelCol=\"hvcat\", predictionCol=\"prediction\")"
   ]
  },
  {
   "cell_type": "code",
   "execution_count": 88,
   "metadata": {},
   "outputs": [
    {
     "name": "stdout",
     "output_type": "stream",
     "text": [
      "0.6374007936507936\n",
      "0.6123122006176439\n"
     ]
    }
   ],
   "source": [
    "print(evaluator.evaluate(predictions1, {evaluator.metricName: \"accuracy\"}))\n",
    "print(evaluator.evaluate(predictions1, {evaluator.metricName: \"f1\"}))"
   ]
  },
  {
   "cell_type": "markdown",
   "metadata": {},
   "source": [
    "# 1.2 Naive Bayes"
   ]
  },
  {
   "cell_type": "code",
   "execution_count": 89,
   "metadata": {},
   "outputs": [],
   "source": [
    "from pyspark.ml.classification import NaiveBayes\n",
    "nb = NaiveBayes(labelCol=\"hvcat\",featuresCol=\"features\",smoothing=1)\n",
    "nbm = nb.fit(train_df)\n",
    "nb_pred = nbm.transform(test_df)"
   ]
  },
  {
   "cell_type": "code",
   "execution_count": 90,
   "metadata": {},
   "outputs": [],
   "source": [
    "evaluator = MulticlassClassificationEvaluator(labelCol=\"hvcat\", predictionCol=\"prediction\")"
   ]
  },
  {
   "cell_type": "code",
   "execution_count": 92,
   "metadata": {},
   "outputs": [
    {
     "name": "stdout",
     "output_type": "stream",
     "text": [
      "0.04564606741573034\n",
      "0.06806673294260514\n"
     ]
    }
   ],
   "source": [
    "print(evaluator.evaluate(nb_pred, {evaluator.metricName: \"accuracy\"}))\n",
    "print(evaluator.evaluate(nb_pred, {evaluator.metricName: \"f1\"}))"
   ]
  },
  {
   "cell_type": "markdown",
   "metadata": {},
   "source": [
    "The model is not useful so we will not use it for the next use case"
   ]
  },
  {
   "cell_type": "markdown",
   "metadata": {},
   "source": [
    "## 1.3.a Random Forest"
   ]
  },
  {
   "cell_type": "code",
   "execution_count": 93,
   "metadata": {},
   "outputs": [],
   "source": [
    "from pyspark.ml import Pipeline\n",
    "from pyspark.ml.classification import RandomForestClassifier\n",
    "from pyspark.ml.feature import IndexToString, StringIndexer, VectorIndexer\n",
    "from pyspark.ml.evaluation import MulticlassClassificationEvaluator"
   ]
  },
  {
   "cell_type": "code",
   "execution_count": 120,
   "metadata": {},
   "outputs": [],
   "source": [
    "# Train a RandomForest model.\n",
    "rf1 = RandomForestClassifier(labelCol=\"hvcat\", featuresCol=\"features\", numTrees=10, seed=10)\n",
    "rf1m = rf1.fit(train_df)\n",
    "rf1_pred = rf1m.transform(test_df)"
   ]
  },
  {
   "cell_type": "code",
   "execution_count": 121,
   "metadata": {},
   "outputs": [],
   "source": [
    "from pyspark.ml.evaluation import MulticlassClassificationEvaluator\n",
    "evaluator = MulticlassClassificationEvaluator(labelCol=\"hvcat\", predictionCol=\"prediction\")"
   ]
  },
  {
   "cell_type": "code",
   "execution_count": 123,
   "metadata": {},
   "outputs": [
    {
     "name": "stdout",
     "output_type": "stream",
     "text": [
      "0.6577491702705421\n",
      "0.6571631121047004\n"
     ]
    }
   ],
   "source": [
    "print(evaluator.evaluate(rf1_pred, {evaluator.metricName: \"accuracy\"}))\n",
    "print(evaluator.evaluate(rf1_pred, {evaluator.metricName: \"f1\"}))"
   ]
  },
  {
   "cell_type": "markdown",
   "metadata": {},
   "source": [
    "## 1.3.b Random Forest"
   ]
  },
  {
   "cell_type": "code",
   "execution_count": 129,
   "metadata": {},
   "outputs": [],
   "source": [
    "#Setting the model's parameters\n",
    "rf2 = RandomForestClassifier(labelCol=\"hvcat\",featuresCol=\"features\", numTrees=100, maxDepth = 4, maxBins = 32, seed=0)"
   ]
  },
  {
   "cell_type": "code",
   "execution_count": 130,
   "metadata": {},
   "outputs": [],
   "source": [
    "#Training the model\n",
    "rf2m = rf2.fit(train_df)"
   ]
  },
  {
   "cell_type": "code",
   "execution_count": 131,
   "metadata": {},
   "outputs": [],
   "source": [
    "#Getting predictions\n",
    "rf2_pred = rf2m.transform(test_df)"
   ]
  },
  {
   "cell_type": "code",
   "execution_count": 132,
   "metadata": {},
   "outputs": [],
   "source": [
    "from pyspark.ml.evaluation import MulticlassClassificationEvaluator\n",
    "evaluator = MulticlassClassificationEvaluator(labelCol=\"hvcat\", predictionCol=\"prediction\")"
   ]
  },
  {
   "cell_type": "code",
   "execution_count": 133,
   "metadata": {},
   "outputs": [
    {
     "name": "stdout",
     "output_type": "stream",
     "text": [
      "0.6539935160624816\n",
      "0.6568514576807893\n"
     ]
    }
   ],
   "source": [
    "print(evaluator.evaluate(rf2_pred, {evaluator.metricName: \"accuracy\"}))\n",
    "print(evaluator.evaluate(rf2_pred, {evaluator.metricName: \"f1\"}))"
   ]
  },
  {
   "cell_type": "markdown",
   "metadata": {},
   "source": [
    "# 2. Using features to predict label a.k.a. overall rating\n",
    "\n",
    "## 2.1 Logistic Regression"
   ]
  },
  {
   "cell_type": "code",
   "execution_count": 134,
   "metadata": {},
   "outputs": [],
   "source": [
    "from pyspark.sql.types import IntegerType\n",
    "\n",
    "train_df = train_df.withColumn(\"label\", train_df[\"label\"].cast(IntegerType()))\n",
    "test_df = test_df.withColumn(\"label\", test_df[\"label\"].cast(IntegerType()))"
   ]
  },
  {
   "cell_type": "code",
   "execution_count": 135,
   "metadata": {},
   "outputs": [],
   "source": [
    "from pyspark.ml.classification import LogisticRegression\n",
    "lgr2 = LogisticRegression(maxIter=4, featuresCol = 'features', labelCol='label')"
   ]
  },
  {
   "cell_type": "code",
   "execution_count": 136,
   "metadata": {},
   "outputs": [],
   "source": [
    "#Training the model\n",
    "lgr2 = lgr2.fit(train_df)"
   ]
  },
  {
   "cell_type": "code",
   "execution_count": 138,
   "metadata": {},
   "outputs": [],
   "source": [
    "#Getting predictions\n",
    "predictions2 = lgr2.transform(test_df)"
   ]
  },
  {
   "cell_type": "code",
   "execution_count": 139,
   "metadata": {},
   "outputs": [
    {
     "name": "stdout",
     "output_type": "stream",
     "text": [
      "+-----+-------+------------+-----+--------------------+--------------------+--------------------+--------------------+--------------------+--------------------+----------+\n",
      "|label|overall|helpfulVotes|hvcat|               words|            filtered|         rawFeatures|            features|       rawPrediction|         probability|prediction|\n",
      "+-----+-------+------------+-----+--------------------+--------------------+--------------------+--------------------+--------------------+--------------------+----------+\n",
      "|    1|      5|           0|  1.0|      [great, book!]|      [great, book!]|(20,[0,16],[1.0,1...|(20,[0,16],[0.217...|[-1.8261782234372...|[0.13869418527874...|       1.0|\n",
      "|    1|      5|           0|  1.0|       [thank, you!]|       [thank, you!]|      (20,[2],[2.0])|(20,[2],[0.922327...|[-1.7974021575244...|[0.14216759287541...|       1.0|\n",
      "|    0|      1|           0|  1.0|[how, many, times...|[many, times, man...|(20,[3,4,5,6,8,9,...|(20,[3,4,5,6,8,9,...|[-1.6848324901995...|[0.15645662738779...|       1.0|\n",
      "+-----+-------+------------+-----+--------------------+--------------------+--------------------+--------------------+--------------------+--------------------+----------+\n",
      "only showing top 3 rows\n",
      "\n"
     ]
    }
   ],
   "source": [
    "predictions2.show(3)"
   ]
  },
  {
   "cell_type": "code",
   "execution_count": 140,
   "metadata": {},
   "outputs": [],
   "source": [
    "from pyspark.ml.evaluation import MulticlassClassificationEvaluator\n",
    "\n",
    "#print evaluation metrics\n",
    "evaluator = MulticlassClassificationEvaluator(labelCol=\"label\", predictionCol=\"prediction\")"
   ]
  },
  {
   "cell_type": "code",
   "execution_count": 141,
   "metadata": {},
   "outputs": [
    {
     "name": "stdout",
     "output_type": "stream",
     "text": [
      "0.8301018409714062\n",
      "0.7498163875668206\n"
     ]
    }
   ],
   "source": [
    "print(evaluator.evaluate(predictions2, {evaluator.metricName: \"accuracy\"}))\n",
    "print(evaluator.evaluate(predictions2, {evaluator.metricName: \"f1\"}))"
   ]
  },
  {
   "cell_type": "markdown",
   "metadata": {},
   "source": [
    "## 2.2.a Random Forest"
   ]
  },
  {
   "cell_type": "code",
   "execution_count": 103,
   "metadata": {},
   "outputs": [],
   "source": [
    "#Setting the parameters\n",
    "rf3 = RandomForestClassifier(labelCol=\"label\", featuresCol=\"features\", numTrees=10)"
   ]
  },
  {
   "cell_type": "code",
   "execution_count": 105,
   "metadata": {},
   "outputs": [],
   "source": [
    "#Training the model\n",
    "rf3m = rf3.fit(train_df)"
   ]
  },
  {
   "cell_type": "code",
   "execution_count": 106,
   "metadata": {},
   "outputs": [],
   "source": [
    "#Getting predictions\n",
    "rf3_pred = rf3m.transform(test_df)"
   ]
  },
  {
   "cell_type": "code",
   "execution_count": 107,
   "metadata": {},
   "outputs": [],
   "source": [
    "from pyspark.ml.evaluation import MulticlassClassificationEvaluator\n",
    "evaluator = MulticlassClassificationEvaluator(labelCol=\"label\", predictionCol=\"prediction\")"
   ]
  },
  {
   "cell_type": "code",
   "execution_count": 108,
   "metadata": {},
   "outputs": [
    {
     "name": "stdout",
     "output_type": "stream",
     "text": [
      "0.8279408827641302\n",
      "0.7575298892087614\n"
     ]
    }
   ],
   "source": [
    "print(evaluator.evaluate(rf3_pred, {evaluator.metricName: \"accuracy\"}))\n",
    "print(evaluator.evaluate(rf3_pred, {evaluator.metricName: \"f1\"}))"
   ]
  },
  {
   "cell_type": "markdown",
   "metadata": {},
   "source": [
    "## 2.2.b Random Forest"
   ]
  },
  {
   "cell_type": "code",
   "execution_count": 109,
   "metadata": {
    "scrolled": true
   },
   "outputs": [],
   "source": [
    "#Setting the parameters\n",
    "rf4 = RandomForestClassifier(labelCol=\"label\",featuresCol=\"features\", numTrees=100, maxDepth = 4, maxBins = 32)"
   ]
  },
  {
   "cell_type": "code",
   "execution_count": 110,
   "metadata": {},
   "outputs": [],
   "source": [
    "#Training the model\n",
    "rf4m = rf4.fit(train_df)"
   ]
  },
  {
   "cell_type": "code",
   "execution_count": 111,
   "metadata": {},
   "outputs": [],
   "source": [
    "#Getting predictions\n",
    "rf4_pred = rf4m.transform(test_df)"
   ]
  },
  {
   "cell_type": "code",
   "execution_count": 112,
   "metadata": {},
   "outputs": [],
   "source": [
    "from pyspark.ml.evaluation import MulticlassClassificationEvaluator\n",
    "evaluator = MulticlassClassificationEvaluator(labelCol=\"label\", predictionCol=\"prediction\")"
   ]
  },
  {
   "cell_type": "code",
   "execution_count": 115,
   "metadata": {},
   "outputs": [
    {
     "name": "stdout",
     "output_type": "stream",
     "text": [
      "0.8233205090263391\n",
      "0.75349929786199\n"
     ]
    }
   ],
   "source": [
    "print(evaluator.evaluate(rf4_pred, {evaluator.metricName: \"accuracy\"}))\n",
    "print(evaluator.evaluate(rf4_pred, {evaluator.metricName: \"f1\"}))"
   ]
  },
  {
   "cell_type": "code",
   "execution_count": 116,
   "metadata": {},
   "outputs": [
    {
     "data": {
      "image/png": "[encoded data removed]",
      "text/plain": [
       "<Figure size 1080x576 with 1 Axes>"
      ]
     },
     "metadata": {},
     "output_type": "display_data"
    }
   ],
   "source": [
    "# Create a pd.Series of features importances\n",
    "sortedimportance = pd.Series(sorted(rf4m.featureImportances))\n",
    "plt.figure(figsize=(15, 8))\n",
    "sortedimportance.plot(kind='barh', color='#1a9988')\n",
    "plt.title(\"Feature Importance\")\n",
    "plt.show()"
   ]
  },
  {
   "cell_type": "markdown",
   "metadata": {},
   "source": [
    "## The END"
   ]
  }
 ],
 "metadata": {
  "kernelspec": {
   "display_name": "pySpark 4G 4e",
   "language": "python",
   "name": "pyspark2_4g"
  },
  "language_info": {
   "codemirror_mode": {
    "name": "ipython",
    "version": 3
   },
   "file_extension": ".py",
   "mimetype": "text/x-python",
   "name": "python",
   "nbconvert_exporter": "python",
   "pygments_lexer": "ipython3",
   "version": "3.6.8"
  }
 },
 "nbformat": 4,
 "nbformat_minor": 2
}
